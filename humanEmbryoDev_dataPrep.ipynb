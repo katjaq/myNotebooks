{
 "cells": [
  {
   "cell_type": "code",
   "execution_count": 1,
   "metadata": {
    "collapsed": false
   },
   "outputs": [
    {
     "name": "stdout",
     "output_type": "stream",
     "text": [
      "Populating the interactive namespace from numpy and matplotlib\n"
     ]
    }
   ],
   "source": [
    "%pylab inline"
   ]
  },
  {
   "cell_type": "code",
   "execution_count": 3,
   "metadata": {
    "collapsed": false
   },
   "outputs": [],
   "source": [
    "import nibabel as nib\n",
    "import nilearn\n",
    "from nilearn import plotting"
   ]
  },
  {
   "cell_type": "code",
   "execution_count": 4,
   "metadata": {
    "collapsed": true
   },
   "outputs": [],
   "source": [
    "#path = '/Users/katja/naturalCoordinates/2016-12_3DEmbryoAtlas/CS21/3DAtlas_CS21-7254-grey-v2016-01_d.nii.gz'\n",
    "pathSeg =  \n",
    "anat = nib.load( path )"
   ]
  },
  {
   "cell_type": "code",
   "execution_count": 5,
   "metadata": {
    "collapsed": false
   },
   "outputs": [],
   "source": [
    "#don't you dare plotting that big guy :P ohhhhh my! 798MB uchar!\n",
    "#plotting.plot_anat( anat )"
   ]
  },
  {
   "cell_type": "code",
   "execution_count": 6,
   "metadata": {
    "collapsed": false
   },
   "outputs": [
    {
     "name": "stdout",
     "output_type": "stream",
     "text": [
      "[[ -1.00000000e+00   0.00000000e+00   0.00000000e+00   8.64500000e+02]\n",
      " [  0.00000000e+00   1.00000000e+00   0.00000000e+00  -1.88700000e+03]\n",
      " [  0.00000000e+00   0.00000000e+00   1.00000000e+00  -1.44000000e+02]\n",
      " [  0.00000000e+00   0.00000000e+00   0.00000000e+00   1.00000000e+00]]\n"
     ]
    }
   ],
   "source": [
    "affine = anat.affine\n",
    "print( affine )"
   ]
  },
  {
   "cell_type": "code",
   "execution_count": 7,
   "metadata": {
    "collapsed": false
   },
   "outputs": [
    {
     "name": "stdout",
     "output_type": "stream",
     "text": [
      "<class 'nibabel.nifti1.Nifti1Header'> object, endian='<'\n",
      "sizeof_hdr      : 348\n",
      "data_type       : \n",
      "db_name         : \n",
      "extents         : 0\n",
      "session_error   : 0\n",
      "regular         : \n",
      "dim_info        : 0\n",
      "dim             : [   3 1729 3774  288    1    1    1    1]\n",
      "intent_p1       : 0.0\n",
      "intent_p2       : 0.0\n",
      "intent_p3       : 0.0\n",
      "intent_code     : none\n",
      "datatype        : uint8\n",
      "bitpix          : 8\n",
      "slice_start     : 0\n",
      "pixdim          : [-1.  1.  1.  1.  0.  1.  1.  1.]\n",
      "vox_offset      : 0.0\n",
      "scl_slope       : nan\n",
      "scl_inter       : nan\n",
      "slice_end       : 0\n",
      "slice_code      : unknown\n",
      "xyzt_units      : 10\n",
      "cal_max         : 0.0\n",
      "cal_min         : 0.0\n",
      "slice_duration  : 0.0\n",
      "toffset         : 0.0\n",
      "glmax           : 0\n",
      "glmin           : 0\n",
      "descrip         : FreeSurfer Jan 19 2017\n",
      "aux_file        : \n",
      "qform_code      : scanner\n",
      "sform_code      : scanner\n",
      "quatern_b       : 0.0\n",
      "quatern_c       : 1.0\n",
      "quatern_d       : 0.0\n",
      "qoffset_x       : 864.5\n",
      "qoffset_y       : -1887.0\n",
      "qoffset_z       : -144.0\n",
      "srow_x          : [  -1.     0.     0.   864.5]\n",
      "srow_y          : [  0.00000000e+00   1.00000000e+00   0.00000000e+00  -1.88700000e+03]\n",
      "srow_z          : [   0.    0.    1. -144.]\n",
      "intent_name     : \n",
      "magic           : n+1\n"
     ]
    }
   ],
   "source": [
    "hdr = anat.header\n",
    "print( hdr )\n",
    "#hdr.set_sform( affine )\n"
   ]
  },
  {
   "cell_type": "code",
   "execution_count": 14,
   "metadata": {
    "collapsed": false
   },
   "outputs": [],
   "source": [
    "#pixdim is 1,1,1 --> but in fact we need 13.35 in z stack to unsquish it\n",
    "#anat.header.get_zooms() --> 1,1,1 \n",
    "anat.header.set_zooms( [1,1,13.35] )\n",
    "print( anat.affine )"
   ]
  },
  {
   "cell_type": "code",
   "execution_count": 22,
   "metadata": {
    "collapsed": false
   },
   "outputs": [],
   "source": [
    "anat.affine[2][2] = 13.35"
   ]
  },
  {
   "cell_type": "code",
   "execution_count": 23,
   "metadata": {
    "collapsed": false
   },
   "outputs": [
    {
     "data": {
      "text/plain": [
       "array([[ -1.00000000e+00,   0.00000000e+00,   0.00000000e+00,\n",
       "          8.64500000e+02],\n",
       "       [  0.00000000e+00,   1.00000000e+00,   0.00000000e+00,\n",
       "         -1.88700000e+03],\n",
       "       [  0.00000000e+00,   0.00000000e+00,   1.33500000e+01,\n",
       "         -1.44000000e+02],\n",
       "       [  0.00000000e+00,   0.00000000e+00,   0.00000000e+00,\n",
       "          1.00000000e+00]])"
      ]
     },
     "execution_count": 23,
     "metadata": {},
     "output_type": "execute_result"
    }
   ],
   "source": [
    "anat.affine"
   ]
  },
  {
   "cell_type": "code",
   "execution_count": 24,
   "metadata": {
    "collapsed": true
   },
   "outputs": [],
   "source": [
    "nib.save(anat,'myanat.nii.gz')"
   ]
  },
  {
   "cell_type": "code",
   "execution_count": 25,
   "metadata": {
    "collapsed": true
   },
   "outputs": [],
   "source": [
    "%%bash\n",
    "open ."
   ]
  },
  {
   "cell_type": "code",
   "execution_count": null,
   "metadata": {
    "collapsed": true
   },
   "outputs": [],
   "source": [
    "#even better workflow:\n",
    "#open file in FiJi\n",
    "#image --> scale --Y and downsample here! e.g. 0.25!!! \n",
    "#--> save as analyze!\n",
    "\n",
    "\n",
    "#the file opens in mricron, but looks all squished, still! :/\n",
    "#it doesn't open in mango (it is too big (783MB)\n",
    "\n",
    "#WORKFLOW:\n",
    "#FiJi --> open application; open file --> .tiff --> save as analyze\n",
    "\n",
    "#mri_convert complains about 'cannot determine filetype for .....file.hdr // unsopported data type 0\n",
    "#so, open with mricron --> open heade information --> chose header img and hdr separately --> save as analyze again\n",
    "\n",
    "#mri_convert -odt uchar /anat.img anat.nii.gz\n",
    "\n",
    "#check\n",
    "#ls -hal anat.nii.gz\n",
    "\n",
    "\n",
    "#open in stereotaxic ramon (I can't seem to move between slices, but it displays one image)\n",
    "#info()\n",
    "#((\n",
    "#-->get rid iof the 13.35 again :\n",
    "#changePixdim(1,1,1)\n",
    "#))\n",
    "\n",
    "#resample(4,4,1,trilinear) --> \n",
    "#Volume size:\t4,433,944,288,1\n",
    "#Voxel units:\t2,8\n",
    "#Data type:\t\tuchar\n",
    "#Voxel size:\t-1,2,2,6.675\n",
    "#changePixdim(1,1,3.342)\n",
    "#info to crosscheck\n",
    "\n",
    "#save as nifti \n",
    "#gzip it\n",
    "\n",
    "#check orientation/ flip\n",
    "#open the 3D pdf and crosscheck\n",
    "\n",
    "\n",
    "\n",
    "\n",
    "\n",
    "\n",
    "\n",
    "\n",
    "\n",
    "\n",
    "\n",
    "\n",
    "\n",
    "\n",
    "\n",
    "\n",
    "\n",
    "\n",
    "\n",
    "#WORKFLOW:\n",
    "#FiJi --> open application; open file --> .tiff --> save as analyze\n",
    "#compalins about 'cannot determine filetype for .....file.hdr ÖÖ\n",
    "#so, open with mricron\n",
    "#change data type\n",
    "#mri_convert -odt uchar anat.hdr anat.nii.gz\n",
    "#mri_convert -odt uchar /anat.img anat.nii.gz\n",
    "\n",
    "#check\n",
    "#ls -hal /Users/katja/naturalCoordinates/2016-12_3DEmbryoAtlas/CS21/3DAtlas_CS21-7254-grey-v2016-01_d.nii.gz\n",
    "\n",
    "#open in stereotaxic ramon (I can't seem to move between slices, but it displays one image)\n",
    "#info()\n",
    "#-->get rid iof the 13.35 again :\n",
    "#changePixdim(1,1,1)\n",
    "#\n",
    "#resample(2,2,6.675,trilinear) --> \n",
    "#Volume size:\t4,433,944,288,1\n",
    "#Voxel units:\t2,8\n",
    "#Data type:\t\tuchar\n",
    "#Voxel size:\t-1,2,2,6.675\n",
    "#changePixdim(1,1,3.342)"
   ]
  }
 ],
 "metadata": {
  "kernelspec": {
   "display_name": "Python 2",
   "language": "python",
   "name": "python2"
  },
  "language_info": {
   "codemirror_mode": {
    "name": "ipython",
    "version": 2
   },
   "file_extension": ".py",
   "mimetype": "text/x-python",
   "name": "python",
   "nbconvert_exporter": "python",
   "pygments_lexer": "ipython2",
   "version": "2.7.13"
  }
 },
 "nbformat": 4,
 "nbformat_minor": 2
}
