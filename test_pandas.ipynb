{
 "cells": [
  {
   "cell_type": "markdown",
   "metadata": {},
   "source": [
    "#### my first play-around notebook\n",
    "to just try out basic things with Pandas and data frames"
   ]
  },
  {
   "cell_type": "markdown",
   "metadata": {},
   "source": [
    "importing things"
   ]
  },
  {
   "cell_type": "code",
   "execution_count": 1,
   "metadata": {
    "collapsed": false
   },
   "outputs": [
    {
     "name": "stdout",
     "output_type": "stream",
     "text": [
      "Populating the interactive namespace from numpy and matplotlib\n"
     ]
    }
   ],
   "source": [
    "%pylab inline"
   ]
  },
  {
   "cell_type": "code",
   "execution_count": 4,
   "metadata": {
    "collapsed": true
   },
   "outputs": [],
   "source": [
    "import numpy as np\n",
    "import pandas as pd\n",
    "import statsmodels.api as sm\n",
    "import statsmodels.formula.api as smf\n",
    "import statsmodels.stats.power as smp\n",
    "import matplotlib.pyplot as plt\n",
    "\n",
    "# Install seaborn typing `conda install seaborn`\n",
    "import seaborn as sns\n",
    "\n",
    "import sklearn"
   ]
  },
  {
   "cell_type": "code",
   "execution_count": 5,
   "metadata": {
    "collapsed": false
   },
   "outputs": [
    {
     "name": "stdout",
     "output_type": "stream",
     "text": [
      "Help on package seaborn:\n",
      "\n",
      "NAME\n",
      "    seaborn - # Capture the original matplotlib rcParams\n",
      "\n",
      "FILE\n",
      "    /Users/katja/anaconda/lib/python2.7/site-packages/seaborn/__init__.py\n",
      "\n",
      "PACKAGE CONTENTS\n",
      "    algorithms\n",
      "    apionly\n",
      "    axisgrid\n",
      "    categorical\n",
      "    crayons\n",
      "    distributions\n",
      "    external (package)\n",
      "    linearmodels\n",
      "    matrix\n",
      "    miscplot\n",
      "    palettes\n",
      "    rcmod\n",
      "    tests (package)\n",
      "    timeseries\n",
      "    utils\n",
      "    widgets\n",
      "    xkcd_rgb\n",
      "\n",
      "DATA\n",
      "    __version__ = '0.7.1'\n",
      "    crayons = {'Almond': '#EFDECD', 'Antique Brass': '#CD9575', 'Apricot':...\n",
      "    division = _Feature((2, 2, 0, 'alpha', 2), (3, 0, 0, 'alpha', 0), 8192...\n",
      "    xkcd_rgb = {'acid green': '#8ffe09', 'adobe': '#bd6c48', 'algae': '#54...\n",
      "\n",
      "VERSION\n",
      "    0.7.1\n",
      "\n",
      "\n"
     ]
    }
   ],
   "source": [
    "print 'Pandas version: ' + pd.__version__\n",
    "# CREATE DATAFRAME\n",
    "# create dataframe -- list\n",
    "myDataPoint1 = [1,2,3]\n",
    "myDataPoint2 = [4,5,6]\n",
    "myDataPoint3 = [7,8,9]\n",
    "\n",
    "d = [myDataPoint1, myDataPoint2, myDataPoint3]\n",
    "df = DataFrame( data = d, columns = ['headOfcolumn'] )\n",
    "\n",
    "#create dataframe – dictionary (go into column 'headOfColumn')\n",
    "d = [myDataPoint1, myDataPoint2, myDataPoint3]\n",
    "df = DataFrame({'headOfColumn': [5,6,7]} )\n",
    "\n",
    "# create dataframe – dictionary – with several columns\n",
    "df = DataFrame( {'headOfColumn': [5,6,7],\n",
    "                'headOfAnotherColumn': [5b,6b,7b] })\n",
    "\n",
    "# if you don't give an index (optional) (will be the names of the rows) pandas will index automatically starting from 0\n",
    "df = DataFrame( [myDataPoint1, myDataPoint2, myDataPoint3], index = ['Name1', 'Name2', 'name3'], columns = ['cName1', 'cName2', 'cName3'])\n",
    "\n",
    "# you could also define a 2dimensional numpy array as data imput (instead of this list of lists)\n",
    "allMyData = np.array([myDataPoint1, myDataPoint2, myDataPoint3])\n",
    "df = DataFrame( allMyData, index = ['Name1', 'Name2', 'name3'], columns = ['cName1', 'cName2', 'cName3', 'cName4'])\n",
    "\n",
    "# by default, pandas sorts columns alphabetically; to circumvene that:\n",
    "\n",
    "# DataFrame( list of lists )\n",
    "\n",
    "\n",
    "# WORKING WITH DATAFRAMES\n",
    "# examine columns\n",
    "# get names of columns\n",
    "df.columns\n",
    "#get value inside one column\n",
    "df['cName1']\n",
    "# versus accessing rows by index function\n",
    "df.ix['Name2']\n",
    "df.ix[0]\n",
    "# print from beginning to 2 excluding 2!\n",
    "df.ix[:2]\n",
    "# from beginning to 2 (row) but only selected columns\n",
    "df.ix[:2['cName1', 'cName3']]\n",
    "# see first few rows of dataframe\n",
    "df.head()\n",
    "# see the first x number of rows\n",
    "df.head(2)\n",
    "# see last few rows\n",
    "df.tail()\n",
    "# sum all rows within each column \n",
    "df.sum()\n",
    "# describe values of each column: how many entries, mean, max, min, standard deviation, 25% 5=5 75% percentile\n",
    "df.describe()\n",
    "\n",
    "\n",
    "\n",
    "# IMPORT DATA FROM THE WEB\n",
    "import pandas.io.data as pweb\n",
    "import datetime\n",
    "\n",
    "start = datetime.datetime( 2010, 10, 10)\n",
    "end = datetime.datetime( 2017, 11, 11)\n",
    "\n",
    "# f = pweb.DataReader(ticker symbol, source, start date, end date)\n",
    "# or: prices = pweb.get_data_yahoo(['tickersympol1', 'tickersymbol2'], start, end)['argumentOfInterestBeingTicker3orSomething']\n",
    "\n",
    "#PLOT DATAFRAME\n",
    "df.plot()\n",
    "\n",
    "\n",
    "help(sns)"
   ]
  },
  {
   "cell_type": "code",
   "execution_count": null,
   "metadata": {
    "collapsed": true
   },
   "outputs": [],
   "source": []
  }
 ],
 "metadata": {
  "kernelspec": {
   "display_name": "Python 2",
   "language": "python",
   "name": "python2"
  },
  "language_info": {
   "codemirror_mode": {
    "name": "ipython",
    "version": 2
   },
   "file_extension": ".py",
   "mimetype": "text/x-python",
   "name": "python",
   "nbconvert_exporter": "python",
   "pygments_lexer": "ipython2",
   "version": "2.7.13"
  }
 },
 "nbformat": 4,
 "nbformat_minor": 2
}
